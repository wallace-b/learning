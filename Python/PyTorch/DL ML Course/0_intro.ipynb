{
 "cells": [
  {
   "cell_type": "code",
   "execution_count": 1,
   "id": "3e1da3f9",
   "metadata": {},
   "outputs": [],
   "source": [
    "import torch"
   ]
  },
  {
   "cell_type": "code",
   "execution_count": null,
   "id": "76c9f8ac",
   "metadata": {},
   "outputs": [],
   "source": [
    "torch.cuda.is_available()"
   ]
  },
  {
   "cell_type": "code",
   "execution_count": 8,
   "id": "1961e69f",
   "metadata": {},
   "outputs": [
    {
     "name": "stdout",
     "output_type": "stream",
     "text": [
      "tensor([[0.8085, 0.0169, 0.7536],\n",
      "        [0.2890, 0.0772, 0.9575],\n",
      "        [0.7841, 0.1380, 0.3112],\n",
      "        [0.9199, 0.6210, 0.9806],\n",
      "        [0.3188, 0.5509, 0.9960]])\n",
      "torch.float32\n"
     ]
    }
   ],
   "source": [
    "x = torch.rand(5,3) # {0,1}\n",
    "print(x)\n",
    "print(x.dtype)"
   ]
  },
  {
   "cell_type": "code",
   "execution_count": 12,
   "id": "720625a3",
   "metadata": {},
   "outputs": [
    {
     "name": "stdout",
     "output_type": "stream",
     "text": [
      "tensor([[ 3.0850, -4.8311,  2.5363],\n",
      "        [-2.1104, -4.2276,  4.5746],\n",
      "        [ 2.8411, -3.6201, -1.8882],\n",
      "        [ 4.1987,  1.2103,  4.8062],\n",
      "        [-1.8120,  0.5092,  4.9602]])\n"
     ]
    }
   ],
   "source": [
    "print((x - 0.5) * 2) # scale to -1 and 1"
   ]
  },
  {
   "cell_type": "code",
   "execution_count": 9,
   "id": "bd09b24b",
   "metadata": {},
   "outputs": [
    {
     "name": "stdout",
     "output_type": "stream",
     "text": [
      "tensor([[1, 1, 1],\n",
      "        [1, 1, 1],\n",
      "        [1, 1, 1],\n",
      "        [1, 1, 1],\n",
      "        [1, 1, 1]], dtype=torch.int16)\n",
      "torch.int16\n"
     ]
    }
   ],
   "source": [
    "y = torch.ones(5,3, dtype=torch.int16)\n",
    "print(y)\n",
    "print(y.dtype)"
   ]
  },
  {
   "cell_type": "code",
   "execution_count": null,
   "id": "c4a30276",
   "metadata": {},
   "outputs": [],
   "source": [
    "torch.manual_seed(1157)\n",
    "t1 = torch.rand(3,3)\n",
    "t2 = torch.rand(3,3)\n",
    "t3 = torch.rand(3,3)"
   ]
  },
  {
   "cell_type": "code",
   "execution_count": 11,
   "id": "46c39995",
   "metadata": {},
   "outputs": [
    {
     "name": "stdout",
     "output_type": "stream",
     "text": [
      "tensor([[2, 2, 2],\n",
      "        [2, 2, 2],\n",
      "        [2, 2, 2],\n",
      "        [2, 2, 2],\n",
      "        [2, 2, 2]], dtype=torch.int16)\n",
      "tensor([[1, 1, 1],\n",
      "        [1, 1, 1],\n",
      "        [1, 1, 1],\n",
      "        [1, 1, 1],\n",
      "        [1, 1, 1]], dtype=torch.int16)\n"
     ]
    }
   ],
   "source": [
    "print(2*y) # 2y : matrix*scalar\n",
    "print(2*y + y - y - y) # 2y - y : matrix addition/subtraction "
   ]
  },
  {
   "cell_type": "code",
   "execution_count": 16,
   "id": "a60795a3",
   "metadata": {},
   "outputs": [
    {
     "name": "stdout",
     "output_type": "stream",
     "text": [
      "A random matrix, r:\n",
      "tensor([[-0.6467,  0.4619,  0.5369],\n",
      "        [ 0.7555,  0.2360, -0.9057],\n",
      "        [ 0.4402, -0.3459,  0.5861]])\n",
      "\n",
      "Absolute value of r:\n",
      "tensor([[0.6467, 0.4619, 0.5369],\n",
      "        [0.7555, 0.2360, 0.9057],\n",
      "        [0.4402, 0.3459, 0.5861]])\n",
      "\n",
      "Inverse sine of r:\n",
      "tensor([[-0.7033,  0.4801,  0.5667],\n",
      "        [ 0.8564,  0.2383, -1.1330],\n",
      "        [ 0.4559, -0.3532,  0.6262]])\n",
      "\n",
      "Determinant of r:\n",
      "tensor(-0.4716)\n",
      "\n",
      "Singular value decomposition of r:\n",
      "torch.return_types.svd(\n",
      "U=tensor([[-0.5796, -0.4361,  0.6884],\n",
      "        [ 0.8082, -0.1995,  0.5541],\n",
      "        [-0.1043,  0.8775,  0.4681]]),\n",
      "S=tensor([1.4504, 0.8861, 0.3669]),\n",
      "V=tensor([[ 0.6477,  0.5842,  0.4890],\n",
      "        [-0.0282, -0.6231,  0.7817],\n",
      "        [-0.7614,  0.5201,  0.3871]]))\n",
      "\n",
      "Average and standard deviation of r:\n",
      "(tensor(0.6005), tensor(0.1242))\n",
      "\n",
      "Maximum value of r:\n",
      "tensor(0.7555)\n"
     ]
    }
   ],
   "source": [
    "u = (torch.rand(3, 3) - 0.5) * 2 # values between -1 and 1\n",
    "print('A random matrix, r:')\n",
    "print(u)\n",
    "\n",
    "# Common mathematical operations are supported:\n",
    "print('\\nAbsolute value of r:')\n",
    "print(torch.abs(u))\n",
    "\n",
    "# ...as are trigonometric functions:\n",
    "print('\\nInverse sine of r:')\n",
    "print(torch.asin(u))\n",
    "\n",
    "# ...and linear algebra operations like determinant and singular value decomposition\n",
    "print('\\nDeterminant of r:')\n",
    "print(torch.det(u))\n",
    "print('\\nSingular value decomposition of r:')\n",
    "print(torch.svd(u))\n",
    "\n",
    "# ...and statistical and aggregate operations:\n",
    "print('\\nAverage and standard deviation of r:')\n",
    "print(torch.std_mean(u))\n",
    "print('\\nMaximum value of r:')\n",
    "print(torch.max(u))"
   ]
  },
  {
   "cell_type": "code",
   "execution_count": null,
   "id": "c17f3de9",
   "metadata": {},
   "outputs": [],
   "source": []
  }
 ],
 "metadata": {
  "kernelspec": {
   "display_name": "Python 3 (ipykernel)",
   "language": "python",
   "name": "python3"
  },
  "language_info": {
   "codemirror_mode": {
    "name": "ipython",
    "version": 3
   },
   "file_extension": ".py",
   "mimetype": "text/x-python",
   "name": "python",
   "nbconvert_exporter": "python",
   "pygments_lexer": "ipython3",
   "version": "3.10.4"
  }
 },
 "nbformat": 4,
 "nbformat_minor": 5
}
