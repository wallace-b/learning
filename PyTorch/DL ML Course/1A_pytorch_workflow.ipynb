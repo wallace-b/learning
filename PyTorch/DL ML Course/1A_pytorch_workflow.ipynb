{
 "cells": [
  {
   "cell_type": "code",
   "execution_count": 1,
   "id": "4cbded89",
   "metadata": {},
   "outputs": [],
   "source": [
    "# Load dependencies\n",
    "import torch\n",
    "from torch import nn # neural network\n",
    "import numpy as np\n",
    "import matplotlib as plt"
   ]
  },
  {
   "cell_type": "code",
   "execution_count": 2,
   "id": "d9749030",
   "metadata": {},
   "outputs": [
    {
     "name": "stdout",
     "output_type": "stream",
     "text": [
      "2.0.1 True\n"
     ]
    }
   ],
   "source": [
    "# Check PyTorch version\n",
    "print(torch.__version__, torch.cuda.is_available())"
   ]
  },
  {
   "cell_type": "markdown",
   "id": "d0dccd70",
   "metadata": {},
   "source": [
    "## Linear Regression Model plan\n",
    "Linear regression formula: <b>$\\hat{Y} or f(X) = aX + b$</b>  \n",
    "where  \n",
    "The true relationship is: $Y = aX + b + \\epsilon$ i.e. the model prediction plus error from the true values/relationship\n",
    "\\hat{Y} or f(X): Model prediction or dependent variable\n",
    "X: dependent variable\n",
    "a: slope, or, in the case of NN - weights\n",
    "b: intercept, or, in the case of NN - biases"
   ]
  },
  {
   "cell_type": "code",
   "execution_count": 3,
   "id": "baee9fa2",
   "metadata": {},
   "outputs": [
    {
     "data": {
      "text/plain": [
       "(tensor([[0.0000],\n",
       "         [0.0200],\n",
       "         [0.0400],\n",
       "         [0.0600],\n",
       "         [0.0800],\n",
       "         [0.1000],\n",
       "         [0.1200],\n",
       "         [0.1400],\n",
       "         [0.1600],\n",
       "         [0.1800]]),\n",
       " tensor([[0.2900],\n",
       "         [0.3250],\n",
       "         [0.3600],\n",
       "         [0.3950],\n",
       "         [0.4300],\n",
       "         [0.4650],\n",
       "         [0.5000],\n",
       "         [0.5350],\n",
       "         [0.5700],\n",
       "         [0.6050]]))"
      ]
     },
     "execution_count": 3,
     "metadata": {},
     "output_type": "execute_result"
    }
   ],
   "source": [
    "# Create *known* parameters i.e. weight and bias\n",
    "weight = 1.75\n",
    "bias = 0.29\n",
    "\n",
    "# Create X-dim interval\n",
    "X = torch.arange(0, 1, 0.02).unsqueeze(dim=1) # add another set of brackets for further manipulation\n",
    "\n",
    "# Create *known* Y = aX + b i.e. true values of Y\n",
    "Y = weight * X + bias\n",
    "\n",
    "X[:10], Y[:10]"
   ]
  },
  {
   "cell_type": "code",
   "execution_count": null,
   "id": "0f776d08",
   "metadata": {},
   "outputs": [],
   "source": []
  }
 ],
 "metadata": {
  "kernelspec": {
   "display_name": "Python 3 (ipykernel)",
   "language": "python",
   "name": "python3"
  },
  "language_info": {
   "codemirror_mode": {
    "name": "ipython",
    "version": 3
   },
   "file_extension": ".py",
   "mimetype": "text/x-python",
   "name": "python",
   "nbconvert_exporter": "python",
   "pygments_lexer": "ipython3",
   "version": "3.10.11"
  }
 },
 "nbformat": 4,
 "nbformat_minor": 5
}
