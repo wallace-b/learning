{
 "cells": [
  {
   "cell_type": "code",
   "execution_count": 1,
   "id": "4cbded89",
   "metadata": {},
   "outputs": [],
   "source": [
    "# Load dependencies\n",
    "import torch\n",
    "from torch import nn # neural network\n",
    "import numpy as np\n",
    "import matplotlib as plt"
   ]
  },
  {
   "cell_type": "code",
   "execution_count": 4,
   "id": "d9749030",
   "metadata": {},
   "outputs": [
    {
     "name": "stdout",
     "output_type": "stream",
     "text": [
      "2.0.1 True\n"
     ]
    }
   ],
   "source": [
    "# Check PyTorch version\n",
    "print(torch.__version__, torch.cuda.is_available())"
   ]
  },
  {
   "cell_type": "markdown",
   "id": "d0dccd70",
   "metadata": {},
   "source": [
    "## Linear Regression Model plan\n",
    "Linear regression formula: <b>$\\hat{Y} or f(X) = aX + b$</b>  \n",
    "where  \n",
    "The true relationship is: $Y = aX + b + \\epsilon$ i.e. the model prediction plus error from the true values/relationship\n",
    "\\hat{Y} or f(X): Model prediction or dependent variable\n",
    "X: dependent variable\n",
    "a: slope, or, in the case of NN - weights\n",
    "b: intercept, or, in the case of NN - biases"
   ]
  },
  {
   "cell_type": "code",
   "execution_count": null,
   "id": "baee9fa2",
   "metadata": {},
   "outputs": [],
   "source": []
  },
  {
   "cell_type": "code",
   "execution_count": null,
   "id": "6ef25870",
   "metadata": {},
   "outputs": [],
   "source": []
  },
  {
   "cell_type": "code",
   "execution_count": null,
   "id": "070606fb",
   "metadata": {},
   "outputs": [],
   "source": []
  }
 ],
 "metadata": {
  "kernelspec": {
   "display_name": "Python 3 (ipykernel)",
   "language": "python",
   "name": "python3"
  },
  "language_info": {
   "codemirror_mode": {
    "name": "ipython",
    "version": 3
   },
   "file_extension": ".py",
   "mimetype": "text/x-python",
   "name": "python",
   "nbconvert_exporter": "python",
   "pygments_lexer": "ipython3",
   "version": "3.10.11"
  }
 },
 "nbformat": 4,
 "nbformat_minor": 5
}
