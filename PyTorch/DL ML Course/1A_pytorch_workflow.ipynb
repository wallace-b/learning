{
 "cells": [
  {
   "cell_type": "code",
   "execution_count": 1,
   "id": "4cbded89",
   "metadata": {},
   "outputs": [],
   "source": [
    "# Load dependencies\n",
    "import torch\n",
    "from torch import nn # neural network\n",
    "import numpy as np\n",
    "import matplotlib as plt\n",
    "import random"
   ]
  },
  {
   "cell_type": "code",
   "execution_count": 2,
   "id": "d9749030",
   "metadata": {},
   "outputs": [
    {
     "name": "stdout",
     "output_type": "stream",
     "text": [
      "2.0.1 True\n"
     ]
    }
   ],
   "source": [
    "# Check PyTorch version\n",
    "print(torch.__version__, torch.cuda.is_available())"
   ]
  },
  {
   "cell_type": "markdown",
   "id": "d0dccd70",
   "metadata": {},
   "source": [
    "## Linear Regression Model plan\n",
    "Linear regression formula: <b>$\\hat{Y} or f(X) = aX + b$</b>  \n",
    "where  \n",
    "The true relationship is: $Y = aX + b + \\epsilon$ i.e. the model prediction plus error from the true values/relationship\n",
    "\\hat{Y} or f(X): Model prediction or dependent variable\n",
    "X: dependent variable\n",
    "a: slope, or, in the case of NN - weights\n",
    "b: intercept, or, in the case of NN - biases"
   ]
  },
  {
   "cell_type": "code",
   "execution_count": 3,
   "id": "baee9fa2",
   "metadata": {},
   "outputs": [
    {
     "data": {
      "text/plain": [
       "(tensor([[0.0000],\n",
       "         [0.0200],\n",
       "         [0.0400],\n",
       "         [0.0600],\n",
       "         [0.0800],\n",
       "         [0.1000],\n",
       "         [0.1200],\n",
       "         [0.1400],\n",
       "         [0.1600],\n",
       "         [0.1800]]),\n",
       " tensor([[0.2900],\n",
       "         [0.3050],\n",
       "         [0.3200],\n",
       "         [0.3350],\n",
       "         [0.3500],\n",
       "         [0.3650],\n",
       "         [0.3800],\n",
       "         [0.3950],\n",
       "         [0.4100],\n",
       "         [0.4250]]))"
      ]
     },
     "execution_count": 3,
     "metadata": {},
     "output_type": "execute_result"
    }
   ],
   "source": [
    "# Create *known* parameters i.e. weight and bias\n",
    "weight = 0.75\n",
    "bias = 0.29\n",
    "\n",
    "# Create X-dim interval\n",
    "X = torch.arange(0, 1, 0.02).unsqueeze(dim=1) # add another set of brackets for further manipulation\n",
    "\n",
    "# Create *known* Y = aX + b i.e. true values of Y\n",
    "y = weight * X + bias\n",
    "\n",
    "X[:10], y[:10]"
   ]
  },
  {
   "cell_type": "code",
   "execution_count": 4,
   "id": "0f776d08",
   "metadata": {},
   "outputs": [],
   "source": [
    "# print(len(X), len(Y)) 50 data points\n",
    "\n",
    "# Create train/test data 80/20\n",
    "RANDOM_SEED = 57\n",
    "random.seed(RANDOM_SEED)\n",
    "\n",
    "index_shuffled = random.sample(range(0, len(X)), len(X))\n",
    "train_test_index_split = int(0.8*len(X))\n",
    "train_index = index_shuffled[:train_test_index_split]\n",
    "test_index = index_shuffled[train_test_index_split:]\n",
    "\n",
    "X_train, y_train = X[train_index], y[train_index]\n",
    "X_test, y_test = X[test_index], y[test_index]"
   ]
  },
  {
   "cell_type": "code",
   "execution_count": 6,
   "id": "6517616b",
   "metadata": {},
   "outputs": [],
   "source": [
    "# Plot function\n",
    "def plot_predictions(train_data=X_train,\n",
    "                    train_labels=y_train,\n",
    "                    test_data=X_test,\n",
    "                    test_labels=y_test,\n",
    "                    predictions=None):\n",
    "    \"\"\"\n",
    "    Plots training, test data and compares Linear Regression model predictions\n",
    "    \"\"\"\n",
    "    plt.figure(figsize=(10, 7))\n",
    "    \n",
    "    # Plot training data (blue)\n",
    "    plt.scatter(train_data, train_labels, c=\"b\", s=7, label=\"Training data\")\n",
    "    \n",
    "    # Plot test data (green)\n",
    "    plt.scatter(test_data, test_labels, c=\"g\", s=7, label=\"Testing data\")\n",
    "    \n",
    "    # Are there predictions? (red)\n",
    "    if predictions is not None:\n",
    "        plt.scatter(test_data, predictions, c=\"r\", s=7, label=\"Predictions\")\n",
    "        \n",
    "    # Show the legend\n",
    "    plt.legend(prop={\"size\": 14})\n",
    "    \n",
    "    figure.show()"
   ]
  },
  {
   "cell_type": "code",
   "execution_count": 7,
   "id": "83801012",
   "metadata": {},
   "outputs": [],
   "source": [
    "# Create PyTorch Linear Regression model\n",
    "class LinearRegressionModel(nn.Module): # almost everything in PyTorch inherits from the base class of nn.Module\n",
    "    def __init__(self):\n",
    "        super().__init__()\n",
    "        self.weight = nn.Parameter(torch.randn(1, # only 1 weight is needed for this Linear Regression Model\n",
    "                                              requires_grad=True,\n",
    "                                              dtype=torch.float))\n",
    "        self.bias = nn.Parameter(torch.randn(1, # only 1 \n",
    "                                            requires_grad=True,\n",
    "                                            dtype=torch.float))\n",
    "        # Forward method to define the computation in the model i.e. the model formula\n",
    "        def forward(self, x: torch.Tensor) -> torch.Tensor: # where x is the input data, in the format of a torch.Tensor\n",
    "            return self.weights * x + self.bias # this is y = aX + b, the linear regression formula\n",
    "        \n",
    "        # PyTorch will run Gradient Descent and Backpropagation to update the weight and bias."
   ]
  }
 ],
 "metadata": {
  "kernelspec": {
   "display_name": "Python 3 (ipykernel)",
   "language": "python",
   "name": "python3"
  },
  "language_info": {
   "codemirror_mode": {
    "name": "ipython",
    "version": 3
   },
   "file_extension": ".py",
   "mimetype": "text/x-python",
   "name": "python",
   "nbconvert_exporter": "python",
   "pygments_lexer": "ipython3",
   "version": "3.10.11"
  }
 },
 "nbformat": 4,
 "nbformat_minor": 5
}
