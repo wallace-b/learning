{
 "cells": [
  {
   "cell_type": "code",
   "execution_count": 1,
   "id": "4cbded89",
   "metadata": {},
   "outputs": [],
   "source": [
    "# Load dependencies\n",
    "import torch\n",
    "from torch import nn # neural network\n",
    "import numpy as np\n",
    "import matplotlib.pyplot as plt\n",
    "import random"
   ]
  },
  {
   "cell_type": "code",
   "execution_count": 2,
   "id": "d9749030",
   "metadata": {},
   "outputs": [
    {
     "name": "stdout",
     "output_type": "stream",
     "text": [
      "2.0.1 True\n"
     ]
    }
   ],
   "source": [
    "# Check PyTorch version\n",
    "print(torch.__version__, torch.cuda.is_available())"
   ]
  },
  {
   "cell_type": "markdown",
   "id": "d0dccd70",
   "metadata": {},
   "source": [
    "## Linear Regression Model plan\n",
    "Linear regression formula: <b>$\\hat{Y} or f(X) = aX + b$</b>  \n",
    "where  \n",
    "The true relationship is: $Y = aX + b + \\epsilon$ i.e. the model prediction plus error from the true values/relationship\n",
    "\\hat{Y} or f(X): Model prediction or dependent variable\n",
    "X: dependent variable\n",
    "a: slope, or, in the case of NN - weights\n",
    "b: intercept, or, in the case of NN - biases"
   ]
  },
  {
   "cell_type": "code",
   "execution_count": 3,
   "id": "baee9fa2",
   "metadata": {},
   "outputs": [
    {
     "data": {
      "text/plain": [
       "(tensor([[0.0000],\n",
       "         [0.0200],\n",
       "         [0.0400],\n",
       "         [0.0600],\n",
       "         [0.0800],\n",
       "         [0.1000],\n",
       "         [0.1200],\n",
       "         [0.1400],\n",
       "         [0.1600],\n",
       "         [0.1800]]),\n",
       " tensor([[0.8000],\n",
       "         [0.7900],\n",
       "         [0.7800],\n",
       "         [0.7700],\n",
       "         [0.7600],\n",
       "         [0.7500],\n",
       "         [0.7400],\n",
       "         [0.7300],\n",
       "         [0.7200],\n",
       "         [0.7100]]))"
      ]
     },
     "execution_count": 3,
     "metadata": {},
     "output_type": "execute_result"
    }
   ],
   "source": [
    "# Create *known* parameters i.e. weight and bias\n",
    "weight = -0.5 # E[-1,1] as we want to initialize our basic model with torch.randn \n",
    "bias = 0.8 # E[-1,1] as we want to initialize our basic model with torch.randn \n",
    "\n",
    "# Create X-dim interval\n",
    "X = torch.arange(0, 1, 0.02).unsqueeze(dim=1) # add another set of brackets for further manipulation\n",
    "\n",
    "# Create *known* Y = aX + b i.e. true values of Y\n",
    "y = weight * X + bias\n",
    "\n",
    "X[:10], y[:10]"
   ]
  },
  {
   "cell_type": "code",
   "execution_count": 4,
   "id": "0f776d08",
   "metadata": {},
   "outputs": [],
   "source": [
    "# print(len(X), len(Y)) 50 data points\n",
    "\n",
    "# Create train/test data 80/20\n",
    "RANDOM_SEED = 57\n",
    "random.seed(RANDOM_SEED)\n",
    "\n",
    "index_shuffled = random.sample(range(0, len(X)), len(X))\n",
    "train_test_index_split = int(0.8*len(X))\n",
    "train_index = index_shuffled[:train_test_index_split]\n",
    "test_index = index_shuffled[train_test_index_split:]\n",
    "\n",
    "X_train, y_train = X[train_index], y[train_index]\n",
    "X_test, y_test = X[test_index], y[test_index]"
   ]
  },
  {
   "cell_type": "code",
   "execution_count": 5,
   "id": "6517616b",
   "metadata": {},
   "outputs": [],
   "source": [
    "# Plot function\n",
    "def plot_predictions(train_data,\n",
    "                    train_labels,\n",
    "                    test_data,\n",
    "                    test_labels,\n",
    "                    predictions=None):\n",
    "    \"\"\"\n",
    "    Plots training, test data and compares Linear Regression model predictions\n",
    "    \"\"\"\n",
    "    plt.figure(figsize=(10, 7))\n",
    "    \n",
    "    # Plot training data (blue)\n",
    "    plt.scatter(train_data, train_labels, c=\"b\", s=12, label=\"Training data\")\n",
    "    \n",
    "    # Plot test data (green)\n",
    "    plt.scatter(test_data, test_labels, c=\"g\", s=12, label=\"Testing data\")\n",
    "    \n",
    "    # Are there predictions? (red)\n",
    "    if predictions is not None:\n",
    "        plt.scatter(test_data, predictions, c=\"r\", s=12, label=\"Predictions\")\n",
    "        \n",
    "    # Show the legend\n",
    "    plt.legend(prop={\"size\": 14})\n",
    "    \n",
    "    plt.show()"
   ]
  },
  {
   "cell_type": "code",
   "execution_count": 6,
   "id": "ea13876e",
   "metadata": {},
   "outputs": [
    {
     "data": {
      "image/png": "[encoded data removed]",
      "text/plain": [
       "<Figure size 1000x700 with 1 Axes>"
      ]
     },
     "metadata": {},
     "output_type": "display_data"
    }
   ],
   "source": [
    "plot_predictions(X_train, y_train, X_test, y_test)"
   ]
  },
  {
   "cell_type": "code",
   "execution_count": 7,
   "id": "83801012",
   "metadata": {},
   "outputs": [],
   "source": [
    "# Create PyTorch Linear Regression model\n",
    "class linear_regression_model(nn.Module): # almost everything in PyTorch inherits from the base class of nn.Module\n",
    "    # linear_regression_model is a child / subclass of nn.Module i.e. class child(parent, params...)\n",
    "    def __init__(self):\n",
    "        super().__init__() # call init constructor from nn.Module with super reference\n",
    "        self.weight = nn.Parameter(torch.randn(1, # only 1 weight is needed for this Linear Regression Model...\n",
    "                                               #... and start with a random weight E[-1,1]\n",
    "                                              requires_grad=True, # update via gradient descent: Yes\n",
    "                                              dtype=torch.float))\n",
    "        \n",
    "        self.bias = nn.Parameter(torch.randn(1, # only 1 bias is needed for this Linear Regression Model...\n",
    "                                               #... and start with a random bias E[-1,1]\n",
    "                                            requires_grad=True, # update via gradient descent: Yes\n",
    "                                            dtype=torch.float))\n",
    "        \n",
    "        # forward() method to define the computation in the model i.e. the model formula\n",
    "        # (!) actually overrides the nn.Module forward() method\n",
    "        def forward(self, x: torch.Tensor) -> torch.Tensor: # where x is the input data, in the format of a torch.Tensor\n",
    "            return self.weights * x + self.bias # this is y = aX + b, the linear regression formula\n",
    "        \n",
    "        # PyTorch will run Gradient Descent and Backpropagation to update the weight and bias."
   ]
  },
  {
   "cell_type": "markdown",
   "id": "017ed240",
   "metadata": {},
   "source": [
    "#### PyTorch model building breakdown\n",
    "* torch.nn - contains the building blocks for computational graphs (i.e. a connected hiearchical/ordered ensemble of models (a neural network is a type of computational graph)\n",
    "* torch.nn.Parameter - the parameters our models should try and learn/optimize. Often, a PyTorch layer form torch.nn will set these for us\n",
    "* torch.nn.Module - the base class for all neural network modules. If the new model is child / subclass of nn.Module, the forward() method should be overwritten\n",
    "* torch.optim - contains the optimizers of PyTorch e.g. gradient descent. These tell the model parameters in nn.Parameter how to best change to improve gradient descent and in turn reduce the loss)\n",
    "* forward() `def forward()` - this class function/method defines what computation will occur at each step in the model\n",
    "* torch.utils.data.Dataset - represents a map between key (label) and sample (features) pairs in the data, such as images and their associated labels\n",
    "* torch.utils.data.DataLoader - creates a Python iterable over a torch Dataset (allows for iteration over the specified data)"
   ]
  },
  {
   "cell_type": "code",
   "execution_count": 9,
   "id": "6b61d048",
   "metadata": {},
   "outputs": [
    {
     "name": "stdout",
     "output_type": "stream",
     "text": [
      "[Parameter containing:\n",
      "tensor([0.1446], requires_grad=True), Parameter containing:\n",
      "tensor([-0.1165], requires_grad=True)]\n",
      "OrderedDict([('weight', tensor([0.1446])), ('bias', tensor([-0.1165]))])\n"
     ]
    }
   ],
   "source": [
    "### Model creation ###\n",
    "\n",
    "# RANDOM_SEED = 57\n",
    "torch.manual_seed(RANDOM_SEED)\n",
    "\n",
    "# Create an instance of the model\n",
    "model_0 = linear_regression_model()\n",
    "\n",
    "# View parameters\n",
    "print(list(model_0.parameters()))\n",
    "print(model_0.state_dict())\n",
    "\n",
    "# Goal parameters after training (from earlier)\n",
    "# weight, bias = -0.5, 0.8"
   ]
  }
 ],
 "metadata": {
  "kernelspec": {
   "display_name": "Python 3 (ipykernel)",
   "language": "python",
   "name": "python3"
  },
  "language_info": {
   "codemirror_mode": {
    "name": "ipython",
    "version": 3
   },
   "file_extension": ".py",
   "mimetype": "text/x-python",
   "name": "python",
   "nbconvert_exporter": "python",
   "pygments_lexer": "ipython3",
   "version": "3.10.11"
  }
 },
 "nbformat": 4,
 "nbformat_minor": 5
}
