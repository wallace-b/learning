{
 "cells": [
  {
   "cell_type": "code",
   "execution_count": 1,
   "metadata": {},
   "outputs": [],
   "source": [
    "import tensorflow as tf\n",
    "from tensorflow.keras import datasets, layers, models\n",
    "import matplotlib.pyplot as plt"
   ]
  },
  {
   "cell_type": "code",
   "execution_count": 2,
   "metadata": {},
   "outputs": [],
   "source": [
    "#  LOAD AND SPLIT DATASET\n",
    "(train_images, train_labels), (test_images, test_labels) = datasets.cifar10.load_data()\n",
    "# keep in mind that cifar10 is an interesting tensorflow data structure/array\n",
    "# 60,000 training images and 10,000 test images. 32 pixels x 32 pixels (blurry) pictures, colored i.e. RGD\n",
    "\n",
    "# Normalize pixel values to be between 0 and 1\n",
    "train_images, test_images = train_images / 255.0, test_images / 255.0\n",
    "\n",
    "class_names = ['airplane', 'automobile', 'bird', 'cat', 'deer',\n",
    "               'dog', 'frog', 'horse', 'ship', 'truck']\n",
    "\n",
    "# i.e. airplane = label 0, automobile = label 1, .... truck = "
   ]
  },
  {
   "cell_type": "code",
   "execution_count": 3,
   "metadata": {},
   "outputs": [
    {
     "data": {
      "image/png": "[encoded data removed]",
      "text/plain": [
       "<Figure size 432x288 with 1 Axes>"
      ]
     },
     "metadata": {
      "needs_background": "light"
     },
     "output_type": "display_data"
    }
   ],
   "source": [
    "# Let's look at one image\n",
    "\n",
    "IMG_INDEX = 4 # change this to look up other images\n",
    "\n",
    "plt.imshow(train_images[IMG_INDEX], cmap=plt.cm.binary)\n",
    "plt.xlabel(class_names[train_labels[IMG_INDEX][0]])\n",
    "plt.show()"
   ]
  },
  {
   "cell_type": "code",
   "execution_count": 4,
   "metadata": {},
   "outputs": [],
   "source": [
    "## CNN Architecture ##\n",
    "# A common architecture for a CNN is a stack of Conv2D and MaxPoling2D layers followed by a few densely connected layers.\n",
    "# The idea is that these sequential layers detect features in the image, with increasing levels of search -> consolidation\n",
    "# e.g. find lines and edges -> consolidate/reduce dimensionality -> find curves and shapes -> consol/red. dim -> find key shapes/features\n",
    "\n",
    "model = models.Sequential()\n",
    "model.add(layers.Conv2D(32, (3, 3), activation='relu', input_shape=(32, 32, 3)))\n",
    "# 32 filters\n",
    "# search 3x3 batches/windows, activ_fn = relu\n",
    "# feed in 32 pixels by 32 pixels by RGB\n",
    "model.add(layers.MaxPooling2D((2, 2))) # 2x2 batches with stride length 2\n",
    "model.add(layers.Conv2D(64, (3, 3), activation='relu')) \n",
    "# 64 filters\n",
    "# search 3x3 batches/windows, activ_fn = relu\n",
    "# this layer will figure out the size input data, so it does not need it to be defined\n",
    "model.add(layers.MaxPooling2D((2, 2))) # 2x2 batches with stride length 2 \n",
    "model.add(layers.Conv2D(64, (3, 3), activation='relu'))\n",
    "# 64 filters\n",
    "# search 3x3 batches/windows, activ_fn = relu\n",
    "# this layer will figure out the size input data, so it does not need it to be defined"
   ]
  },
  {
   "cell_type": "code",
   "execution_count": 5,
   "metadata": {},
   "outputs": [
    {
     "name": "stdout",
     "output_type": "stream",
     "text": [
      "Model: \"sequential\"\n",
      "_________________________________________________________________\n",
      "Layer (type)                 Output Shape              Param #   \n",
      "=================================================================\n",
      "conv2d (Conv2D)              (None, 30, 30, 32)        896       \n",
      "_________________________________________________________________\n",
      "max_pooling2d (MaxPooling2D) (None, 15, 15, 32)        0         \n",
      "_________________________________________________________________\n",
      "conv2d_1 (Conv2D)            (None, 13, 13, 64)        18496     \n",
      "_________________________________________________________________\n",
      "max_pooling2d_1 (MaxPooling2 (None, 6, 6, 64)          0         \n",
      "_________________________________________________________________\n",
      "conv2d_2 (Conv2D)            (None, 4, 4, 64)          36928     \n",
      "=================================================================\n",
      "Total params: 56,320\n",
      "Trainable params: 56,320\n",
      "Non-trainable params: 0\n",
      "_________________________________________________________________\n"
     ]
    }
   ],
   "source": [
    "model.summary()"
   ]
  },
  {
   "cell_type": "code",
   "execution_count": 6,
   "metadata": {},
   "outputs": [],
   "source": [
    "# conv2d -> 30, 30, 32 - we get 2 pixels less because of no padding\n",
    "# 30 -> 15 (halved) -> 13 (minus 2) -> 6 (halved) -> 4 (minus 2) dimensionality"
   ]
  },
  {
   "cell_type": "code",
   "execution_count": 7,
   "metadata": {},
   "outputs": [],
   "source": [
    "# Add the dense layers after the convolution layers\n",
    "model.add(layers.Flatten()) # flattening layer - row major - 1 dim array\n",
    "model.add(layers.Dense(64, activation='relu')) # dense layer\n",
    "model.add(layers.Dense(10)) # dense layer, 10 classifications"
   ]
  },
  {
   "cell_type": "code",
   "execution_count": 8,
   "metadata": {},
   "outputs": [
    {
     "name": "stdout",
     "output_type": "stream",
     "text": [
      "Model: \"sequential\"\n",
      "_________________________________________________________________\n",
      "Layer (type)                 Output Shape              Param #   \n",
      "=================================================================\n",
      "conv2d (Conv2D)              (None, 30, 30, 32)        896       \n",
      "_________________________________________________________________\n",
      "max_pooling2d (MaxPooling2D) (None, 15, 15, 32)        0         \n",
      "_________________________________________________________________\n",
      "conv2d_1 (Conv2D)            (None, 13, 13, 64)        18496     \n",
      "_________________________________________________________________\n",
      "max_pooling2d_1 (MaxPooling2 (None, 6, 6, 64)          0         \n",
      "_________________________________________________________________\n",
      "conv2d_2 (Conv2D)            (None, 4, 4, 64)          36928     \n",
      "_________________________________________________________________\n",
      "flatten (Flatten)            (None, 1024)              0         \n",
      "_________________________________________________________________\n",
      "dense (Dense)                (None, 64)                65600     \n",
      "_________________________________________________________________\n",
      "dense_1 (Dense)              (None, 10)                650       \n",
      "=================================================================\n",
      "Total params: 122,570\n",
      "Trainable params: 122,570\n",
      "Non-trainable params: 0\n",
      "_________________________________________________________________\n"
     ]
    }
   ],
   "source": [
    "model.summary()\n",
    "# 1024 = 4 x 4 x 64"
   ]
  },
  {
   "cell_type": "code",
   "execution_count": 9,
   "metadata": {},
   "outputs": [
    {
     "name": "stdout",
     "output_type": "stream",
     "text": [
      "Train on 50000 samples, validate on 10000 samples\n",
      "Epoch 1/10\n",
      "50000/50000 [==============================] - 38s 750us/sample - loss: 1.5422 - accuracy: 0.4375 - val_loss: 1.3361 - val_accuracy: 0.5124\n",
      "Epoch 2/10\n",
      "50000/50000 [==============================] - 35s 698us/sample - loss: 1.1673 - accuracy: 0.5882 - val_loss: 1.1330 - val_accuracy: 0.6007\n",
      "Epoch 3/10\n",
      "50000/50000 [==============================] - 35s 696us/sample - loss: 1.0146 - accuracy: 0.6438 - val_loss: 1.0198 - val_accuracy: 0.6361\n",
      "Epoch 4/10\n",
      "50000/50000 [==============================] - 35s 690us/sample - loss: 0.9166 - accuracy: 0.6785 - val_loss: 0.9552 - val_accuracy: 0.6708\n",
      "Epoch 5/10\n",
      "50000/50000 [==============================] - 35s 691us/sample - loss: 0.8523 - accuracy: 0.7015 - val_loss: 0.9307 - val_accuracy: 0.6790\n",
      "Epoch 6/10\n",
      "50000/50000 [==============================] - 35s 691us/sample - loss: 0.7924 - accuracy: 0.7203 - val_loss: 0.8996 - val_accuracy: 0.6965\n",
      "Epoch 7/10\n",
      "50000/50000 [==============================] - 35s 701us/sample - loss: 0.7496 - accuracy: 0.7368 - val_loss: 0.9059 - val_accuracy: 0.6907\n",
      "Epoch 8/10\n",
      "50000/50000 [==============================] - 35s 700us/sample - loss: 0.7076 - accuracy: 0.7511 - val_loss: 0.9089 - val_accuracy: 0.6942\n",
      "Epoch 9/10\n",
      "50000/50000 [==============================] - 35s 696us/sample - loss: 0.6714 - accuracy: 0.7627 - val_loss: 0.8866 - val_accuracy: 0.7038\n",
      "Epoch 10/10\n",
      "50000/50000 [==============================] - 35s 702us/sample - loss: 0.6317 - accuracy: 0.7787 - val_loss: 0.8965 - val_accuracy: 0.6988\n"
     ]
    }
   ],
   "source": [
    "## Training ##\n",
    "model.compile(optimizer='adam',\n",
    "              loss=tf.keras.losses.SparseCategoricalCrossentropy(from_logits=True),\n",
    "              metrics=['accuracy'])\n",
    "\n",
    "history = model.fit(train_images, train_labels, epochs=10, \n",
    "                    validation_data=(test_images, test_labels))"
   ]
  },
  {
   "cell_type": "code",
   "execution_count": 10,
   "metadata": {},
   "outputs": [
    {
     "name": "stdout",
     "output_type": "stream",
     "text": [
      "10000/10000 - 2s - loss: 0.8965 - accuracy: 0.6988\n",
      "0.6988\n"
     ]
    }
   ],
   "source": [
    "# regarding which optimizer, loss and metrics (hyperparameters), look up the documentation!\n",
    "\n",
    "test_loss, test_acc = model.evaluate(test_images, test_labels, verbose=2)\n",
    "print(test_acc) \n",
    "# 0.7069 - this should be the same as the accuracy from the last epoch\n",
    "# as we have fed the test data to the training/model fit "
   ]
  },
  {
   "cell_type": "code",
   "execution_count": 11,
   "metadata": {},
   "outputs": [
    {
     "data": {
      "image/png": "[encoded data removed]",
      "text/plain": [
       "<Figure size 432x288 with 1 Axes>"
      ]
     },
     "metadata": {
      "needs_background": "light"
     },
     "output_type": "display_data"
    },
    {
     "data": {
      "image/png": "[encoded data removed]",
      "text/plain": [
       "<Figure size 432x288 with 1 Axes>"
      ]
     },
     "metadata": {
      "needs_background": "light"
     },
     "output_type": "display_data"
    },
    {
     "data": {
      "image/png": "[encoded data removed]",
      "text/plain": [
       "<Figure size 432x288 with 1 Axes>"
      ]
     },
     "metadata": {
      "needs_background": "light"
     },
     "output_type": "display_data"
    },
    {
     "data": {
      "image/png": "[encoded data removed]",
      "text/plain": [
       "<Figure size 432x288 with 1 Axes>"
      ]
     },
     "metadata": {
      "needs_background": "light"
     },
     "output_type": "display_data"
    },
    {
     "data": {
      "image/png": "[encoded data removed]",
      "text/plain": [
       "<Figure size 432x288 with 1 Axes>"
      ]
     },
     "metadata": {
      "needs_background": "light"
     },
     "output_type": "display_data"
    }
   ],
   "source": [
    "## Data Augmentation and Working With Small Datasets ##\n",
    "# In actuality, in the situation where you don't have millions of images, it is difficult to train a CNN from ...\n",
    "# ... scratch that is able to perform very well. Yes, you could use a pre-trained CNN which has already been passed ...\n",
    "# ... millions of images by Google or some other tech company.\n",
    "# To avoid overfitting to the small dataset, we will use certain techniques to randomly transform our dataset images ...\n",
    "# ... such that our model can generalize better. These transformations include: compression, rotation, color changes, stretches etc.\n",
    "\n",
    "# Fortunately keras can help us do this ->\n",
    "\n",
    "from tensorflow.keras.preprocessing import image\n",
    "from tensorflow.keras.preprocessing.image import ImageDataGenerator\n",
    "\n",
    "# creates an image data generator object that transforms images\n",
    "datagen = ImageDataGenerator(\n",
    "rotation_range=40,\n",
    "width_shift_range=0.2,\n",
    "height_shift_range=0.2,\n",
    "shear_range=0.2,\n",
    "zoom_range=0.2,\n",
    "horizontal_flip=True,\n",
    "fill_mode='nearest')\n",
    "\n",
    "# example, pick an image to transform\n",
    "test_img = train_images[20] # 20 is a random index chosen\n",
    "img = image.img_to_array(test_img)  # convert image to numpy arry\n",
    "img = img.reshape((1,) + img.shape)  # reshape image as 1 row\n",
    "\n",
    "i = 0\n",
    "\n",
    "for batch in datagen.flow(img, save_prefix='test', save_format='jpeg'):  # this loops runs forever until we break, saving images to current directory with specified prefix\n",
    "    plt.figure(i)\n",
    "    plot = plt.imshow(image.img_to_array(batch[0]))\n",
    "    i += 1\n",
    "    if i > 4:  # show 4 images\n",
    "        break\n",
    "\n",
    "plt.show()"
   ]
  },
  {
   "cell_type": "code",
   "execution_count": null,
   "metadata": {},
   "outputs": [],
   "source": []
  }
 ],
 "metadata": {
  "kernelspec": {
   "display_name": "Python 3",
   "language": "python",
   "name": "python3"
  },
  "language_info": {
   "codemirror_mode": {
    "name": "ipython",
    "version": 3
   },
   "file_extension": ".py",
   "mimetype": "text/x-python",
   "name": "python",
   "nbconvert_exporter": "python",
   "pygments_lexer": "ipython3",
   "version": "3.7.6"
  }
 },
 "nbformat": 4,
 "nbformat_minor": 4
}
