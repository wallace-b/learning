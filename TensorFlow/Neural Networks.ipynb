{
 "cells": [
  {
   "cell_type": "code",
   "execution_count": 1,
   "metadata": {},
   "outputs": [],
   "source": [
    "import tensorflow as tf\n",
    "from tensorflow import keras\n",
    "\n",
    "import numpy as np\n",
    "import matplotlib.pyplot as plt"
   ]
  },
  {
   "cell_type": "code",
   "execution_count": 2,
   "metadata": {},
   "outputs": [],
   "source": [
    "fashion_mnist = keras.datasets.fashion_mnist \n",
    "# load dataset, 60,000 images for training and 10,000 images for validation/testing\n",
    "\n",
    "(train_images, train_labels), (test_images, test_labels) = fashion_mnist.load_data()\n",
    "# split data into testing and training, clearly it is split into two pairs of tuples"
   ]
  },
  {
   "cell_type": "code",
   "execution_count": 3,
   "metadata": {},
   "outputs": [
    {
     "data": {
      "text/plain": [
       "(60000, 28, 28)"
      ]
     },
     "execution_count": 3,
     "metadata": {},
     "output_type": "execute_result"
    }
   ],
   "source": [
    "train_images.shape # (60000, 28, 28) 60k images, 28 pixels by 28 pixels"
   ]
  },
  {
   "cell_type": "code",
   "execution_count": 4,
   "metadata": {},
   "outputs": [
    {
     "data": {
      "text/plain": [
       "numpy.ndarray"
      ]
Relocation     },
     "execution_count": 4,
     "metadata": {},
     "output_type": "execute_result"
    }
   ],
   "source": [
    "type(train_images)"
   ]
  },
  {
   "cell_type": "code",
   "execution_count": 5,
   "metadata": {},
   "outputs": [
    {
     "data": {
      "text/plain": [
       "194"
      ]
     },
     "execution_count": 5,
     "metadata": {},
     "output_type": "execute_result"
    }
   ],
   "source": [
    "train_images[0, 23, 23] # one pixel, pixel x= 23(24), y= 23(24), = 194 (grayscale value / could be an RGB value in other situations)"
   ]
  },
  {
   "cell_type": "code",
   "execution_count": 6,
   "metadata": {},
   "outputs": [
    {
     "name": "stdout",
     "output_type": "stream",
     "text": [
      "[[  0   0   0   0   0   0   0   0   0   0   0   0   0   0   0   0   0   0\n",
      "    0   0   0   0   0   0   0   0   0   0]\n",
      " [  0   0   0   0   0   0   0   0   0   0   0   0   0   0   0   0   0   0\n",
      "    0   0   0   0   0   0   0   0   0   0]\n",
      " [  0   0   0   0   0   0   0   0   0   0   0   0   0   0   0   0   0   0\n",
      "    0   0   0   0   0   0   0   0   0   0]\n",
      " [  0   0   0   0   0   0   0   0   0   0   0   0   0   0   0   0   0   0\n",
      "    0   0   0   0   0   0   0   0   0   0]\n",
      " [  0   0   0   0   0   0   0   0   0   1   0   0   0   0   2   0   1   0\n",
      "   16  94   0   0   2   1   1   0   1   0]\n",
      " [  0   0   0   0   0   0   0   0   0   0   1   0   1   1   0   0   1   0\n",
      "  101 196 187   8   0   0   0   1   0   0]\n",
      " [  0   0   0   0   0   0   0   0   0   0   1   0   1   1   0   1   0   0\n",
      "  161 167 166 112  11   1   0   0   6   0]\n",
      " [  0   0   0   0   0   0   0   0   0   1   0   0   0   0   0   3   0 121\n",
      "  213 187 183 180 179 155 147 129 175   8]\n",
      " [  0   0   0   0   0   0   0   0   0   0   1   0   0   1   2   1   0 119\n",
      "  198 183 185 170 185 172 170 170 146   2]\n",
      " [  0   0   0   0   0   0   0   0   0   0   0   0   0   2   3   0   0 175\n",
      "  208 176 212 180 174 166 164 164 144   0]\n",
      " [  0   0   0   0   0   0   0   0   0   0   0   0   0   2   0   0  73 255\n",
      "  192 134 175 183 192 184 189 179 193   0]\n",
      " [  0   0   0   0   0   0   0   0   0   0   0   2   1   0   0  70 192 170\n",
      "  134 189 192 175 157 156 171 149 180   8]\n",
      " [  0   0   0   1   0   0   0   0   0   1   3   1   0  35  99 181 183 126\n",
      "  175 197 208 203 197 188 175 158 187  14]\n",
      " [  1   1   0   0   1   1   1   1   2   2   0   0  70 188 188 116 131 180\n",
      "  202 190 181 188 187 175 167 156 199  34]\n",
      " [  0   0   3   3   2   0   0   0   0   0   3  69 179 106 134 151 187 183\n",
      "  178 171 169 187 187 183 188 167 210  53]\n",
      " [  0   0   0   0   0   0   1  11  19  57 114 130 125 129 160 174 178 184\n",
      "  185 196 197 198 192 188 189 166 211  52]\n",
      " [  7   0  29  87  88 105 101  99 108 110 110 137 155 166 174 179 174 176\n",
      "  180 181 181 180 180 184 174 169 211  66]\n",
      " [  0  19 143 119 115 116 111 114 119 116 125 139 147 155 158 161 170 172\n",
      "  174 174 179 188 192 184 170 174 203  85]\n",
      " [  0  98 162 148 146 140 137 146 147 152 153 155 158 164 166 169 171 172\n",
      "  179 175 176 180 187 180 180 183 197  92]\n",
      " [ 49 128 133 162 175 179 178 165 162 157 158 165 178 180 180 187 190 194\n",
      "  202 207 210 205 216 217 212 212 216  94]\n",
      " [ 28 131 138 140 144 161 171 184 196 194 194 197 205 208 206 202 201 201\n",
      "  197 194 190 180 175 165 152 147 157 112]\n",
      " [  0   0  48 116 158 164 151 157 160 169 172 172 172 183 185 202 181 171\n",
      "  152 170 170 162 167 175 170 162 157 123]\n",
      " [  3   0   0   0   6  53 105 143 169 165 185 183 194 172  69  38  20   1\n",
      "    0  67 216 213 202 210 208 198 192 134]\n",
      " [  0   2   2   0   0   0   0   0   0   0   0   0   5   1   0   0   0   1\n",
      "    0   0  47  56  48  41  43  39  35   1]\n",
      " [  0   0   0   0   0   0   0   0   0   0   0   0   0   0   0   0   0   0\n",
      "    0   0   0   0   0   0   0   0   0   0]\n",
      " [  0   0   0   0   0   0   0   0   0   0   0   0   0   0   0   0   0   0\n",
      "    0   0   0   0   0   0   0   0   0   0]\n",
      " [  0   0   0   0   0   0   0   0   0   0   0   0   0   0   0   0   0   0\n",
      "    0   0   0   0   0   0   0   0   0   0]\n",
      " [  0   0   0   0   0   0   0   0   0   0   0   0   0   0   0   0   0   0\n",
      "    0   0   0   0   0   0   0   0   0   0]]\n"
     ]
    }
   ],
   "source": [
    "print(train_images[50000, :, :])"
   ]
  },
  {
   "cell_type": "code",
   "execution_count": 7,
   "metadata": {},
   "outputs": [
    {
     "data": {
      "text/plain": [
       "array([9, 0, 0, 3, 0, 2, 7, 2, 5, 5], dtype=uint8)"
      ]
     },
     "execution_count": 7,
     "metadata": {},
     "output_type": "execute_result"
    }
   ],
   "source": [
    "train_labels[:10]  # let's have a look at the first 10 training labels"
   ]
  },
  {
   "cell_type": "code",
   "execution_count": 8,
   "metadata": {},
   "outputs": [],
   "source": [
    "class_names = ['T-shirt/top', 'Trouser', 'Pullover', 'Dress', 'Coat',\n",
    "               'Sandal', 'Shirt', 'Sneaker', 'Bag', 'Ankle boot']"
   ]
  },
  {
   "cell_type": "code",
   "execution_count": 9,
   "metadata": {},
   "outputs": [
    {
     "data": {
      "image/png": "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\n",
      "text/plain": [
       "<Figure size 432x288 with 2 Axes>"
      ]
     },
     "metadata": {
      "needs_background": "light"
     },
     "output_type": "display_data"
    }
   ],
   "source": [
    "plt.figure()\n",
    "plt.imshow(train_images[6])\n",
    "plt.colorbar()\n",
    "#plt.grid(False)\n",
    "plt.show()"
   ]
  },
  {
   "cell_type": "code",
   "execution_count": 10,
   "metadata": {},
   "outputs": [
    {
     "data": {
      "image/png": "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\n",
      "text/plain": [
       "<Figure size 432x288 with 1 Axes>"
      ]
     },
     "metadata": {
      "needs_background": "light"
     },
     "output_type": "display_data"
    }
   ],
   "source": [
    "plt.figure()\n",
    "plt.imshow(train_images[6], cmap='gray', vmin=0, vmax=255)\n",
    "#plt.grid(False)\n",
    "plt.show()"
   ]
  },
  {
   "cell_type": "code",
   "execution_count": 11,
   "metadata": {},
   "outputs": [],
   "source": [
    "## Data Preprocessing ##\n",
    "train_images = train_images / 255.0\n",
    "test_images = test_images / 255.0\n",
    "\n",
    "# We scale the pixel values (0-255) to between [0,1] because it makes it more difficult for the model to process our values\n",
    "# It is good practice to scale values to [0,1]. Do for both training and test data - you need to make sure both datasets\n",
    "# are scaled.\n",
    "# If the values remain large, the model has to work hard to scale these values down and this can impact how it updates/changes\n",
    "# the weights and biases."
   ]
  },
  {
   "cell_type": "code",
   "execution_count": 12,
   "metadata": {},
   "outputs": [],
   "source": [
    "# (!) the hardest part of machine learning is usually pre-processing the data and getting it into the correct form,\n",
    "# the right shape is the most difficult part\n",
    "\n",
    "model = keras.Sequential([\n",
    "    keras.layers.Flatten(input_shape=(28, 28)), # input layer (1) flatten the 28, 28 and make it a row major array\n",
    "    keras.layers.Dense(128, activation='relu'), # hidden layer (2) rectified linear activation fn (other ones include tanh, sigmoid), dense means each node is connected to every input node from the previous layer\n",
    "    keras.layers.Dense(10, activation='softmax') # output layer (3) softmax activation fn (makes sure probabilities for each class are [0,1] AND add up to 1 (i.e. 100%), we have 10 classes to represent the 10 clothing article classifications    \n",
    "])\n",
    "# Sequential - passing information from the left to the right, through each layer. It is the most basic neural network form.\n",
    "# other forms include 'Recurrent' or Convolutional' Neural Networks."
   ]
  },
  {
   "cell_type": "code",
   "execution_count": 13,
   "metadata": {},
   "outputs": [],
   "source": [
    "# The last step in building the model is to define the loss function, optimizer and metrics we would like to track.\n",
    "\n",
    "## Compile the Model ##\n",
    "model.compile(optimizer='adam',\n",
    "              loss='sparse_categorical_crossentropy',\n",
    "              metrics=['accuracy'])\n",
    "\n",
    "# 1. 'adam' performs gradient descent\n",
    "# 2. 'sparse categorical crossentropy'\n",
    "# 3. 'accuracy' - self explanatory\n",
    "\n",
    "# ==Hyperparameter tuning==\n",
    "# weights and biases within the model cannot be edited manually.\n",
    "# however, hyperparameters refers to things we can change, such as:\n",
    "# the number of neurons in each layer, the activation functions, the optimizer, the loss function, the metrics,\n",
    "# the number of epochs, etc.\n",
    "\n",
    "# -------- 'Categorical Cross Entropy vs Sparse Categorical Cross Entropy'\n",
    "# only difference is the the format of true labels\n",
    "# output: [1,0,0], [0,1,0], [0,0,1] vs. [1], [2], [3]\n",
    "# 'Categorical Cross Entropy' is also called Softmax Loss. It is a Softmax activation plus Cross-Entropy loss.\n",
    "# The usage entirely depends on how you load your dataset. \n",
    "# One advantage of using sparse categorical cross entropy is it saves time in memory as well as computation\n",
    "# because it simply uses a single integer for a class, rather than a whole vector."
   ]
  },
  {
   "cell_type": "code",
   "execution_count": 14,
   "metadata": {},
   "outputs": [
    {
     "name": "stdout",
     "output_type": "stream",
     "text": [
      "Train on 60000 samples\n",
      "Epoch 1/10\n",
      "60000/60000 [==============================] - 3s 50us/sample - loss: 0.4988 - accuracy: 0.8233\n",
      "Epoch 2/10\n",
      "60000/60000 [==============================] - 3s 42us/sample - loss: 0.3737 - accuracy: 0.8657\n",
      "Epoch 3/10\n",
      "60000/60000 [==============================] - 3s 44us/sample - loss: 0.3354 - accuracy: 0.8776\n",
      "Epoch 4/10\n",
      "60000/60000 [==============================] - 3s 43us/sample - loss: 0.3111 - accuracy: 0.8855\n",
      "Epoch 5/10\n",
      "60000/60000 [==============================] - 3s 43us/sample - loss: 0.2937 - accuracy: 0.8911\n",
      "Epoch 6/10\n",
      "60000/60000 [==============================] - 3s 43us/sample - loss: 0.2803 - accuracy: 0.8972\n",
      "Epoch 7/10\n",
      "60000/60000 [==============================] - 3s 43us/sample - loss: 0.2653 - accuracy: 0.9002\n",
      "Epoch 8/10\n",
      "60000/60000 [==============================] - 3s 43us/sample - loss: 0.2573 - accuracy: 0.9033\n",
      "Epoch 9/10\n",
      "60000/60000 [==============================] - 3s 43us/sample - loss: 0.2466 - accuracy: 0.9078\n",
      "Epoch 10/10\n",
      "60000/60000 [==============================] - 3s 42us/sample - loss: 0.2386 - accuracy: 0.9100\n"
     ]
    },
    {
     "data": {
      "text/plain": [
       "<tensorflow.python.keras.callbacks.History at 0x28ffc7b1808>"
      ]
     },
     "execution_count": 14,
     "metadata": {},
     "output_type": "execute_result"
    }
   ],
   "source": [
    "# fit/train the model on the training data\n",
    "model.fit(train_images, train_labels, epochs=10)"
   ]
  },
  {
   "cell_type": "code",
   "execution_count": 15,
   "metadata": {},
   "outputs": [
    {
     "name": "stdout",
     "output_type": "stream",
     "text": [
      "10000/10000 [==============================] - 0s 35us/sample - loss: 0.3413 - accuracy: 0.8857\n"
     ]
    }
   ],
   "source": [
    "# evaluate the model on the test data\n",
    "test_loss, test_acc = model.evaluate(test_images, test_labels, verbose=1)"
   ]
  },
  {
   "cell_type": "code",
   "execution_count": 16,
   "metadata": {},
   "outputs": [
    {
     "name": "stdout",
     "output_type": "stream",
     "text": [
      "Test accuracy: 0.8857\n"
     ]
    }
   ],
   "source": [
    "# overfitted to training data, it is normal to expect the test data accuracy is lower\n",
    "# than what it was for the training data\n",
    "print('Test accuracy:', test_acc)\n",
    "\n",
    "# hyperparameter tuning will hopefully allow us to create a model that has more 'generalized' accuracy"
   ]
  },
  {
   "cell_type": "code",
   "execution_count": 17,
   "metadata": {},
   "outputs": [
    {
     "name": "stdout",
     "output_type": "stream",
     "text": [
      "Train on 60000 samples\n",
      "60000/60000 [==============================] - 3s 43us/sample - loss: 0.2285 - accuracy: 0.9151\n",
      "10000/10000 [==============================] - 0s 25us/sample - loss: 0.3601 - accuracy: 0.8747\n"
     ]
    }
   ],
   "source": [
    "# fit/train the model on the training data\n",
    "model.fit(train_images, train_labels, epochs=1)\n",
    "\n",
    "# evaluate the model on the test data\n",
    "test_loss_1, test_acc_1 = model.evaluate(test_images, test_labels, verbose=1)"
   ]
  },
  {
   "cell_type": "code",
   "execution_count": 18,
   "metadata": {},
   "outputs": [
    {
     "name": "stdout",
     "output_type": "stream",
     "text": [
      "Test accuracy for 1 epoch: 0.8747\n"
     ]
    }
   ],
   "source": [
    "print('Test accuracy for 1 epoch:', test_acc_1)\n",
    "\n",
    "# hyperparameter tuning will hopefully allow us to create a model that has more 'generalized' accuracy\n",
    "# i.e. we tried with 1 epoch to see if the model training on less iterations of the training data (the number of epochs)\n",
    "# improved the generalization of the model."
   ]
  },
  {
   "cell_type": "code",
   "execution_count": 19,
   "metadata": {},
   "outputs": [],
   "source": [
    "predictions = model.predict(test_images)\n",
    "# predictions = model.predict([test_images[0]])"
   ]
  },
  {
   "cell_type": "code",
   "execution_count": 20,
   "metadata": {},
   "outputs": [
    {
     "data": {
      "text/plain": [
       "array([8.26576169e-11, 1.62874297e-11, 1.38707801e-09, 3.02756847e-11,\n",
       "       4.27031788e-09, 6.02554610e-06, 1.13258878e-08, 4.98970679e-04,\n",
       "       1.05182876e-10, 9.99494910e-01], dtype=float32)"
      ]
     },
     "execution_count": 20,
     "metadata": {},
     "output_type": "execute_result"
    }
   ],
   "source": [
    "predictions[0] # label/class 9(10) is 0.987.."
   ]
  },
  {
   "cell_type": "code",
   "execution_count": 21,
   "metadata": {},
   "outputs": [
    {
     "data": {
      "text/plain": [
       "9"
      ]
     },
     "execution_count": 21,
     "metadata": {},
     "output_type": "execute_result"
    }
   ],
   "source": [
    "np.argmax(predictions[0]) # returns the index of the highest value of predictions[0] i.e. class 9"
   ]
  },
  {
   "cell_type": "code",
   "execution_count": 22,
   "metadata": {},
   "outputs": [
    {
     "name": "stdout",
     "output_type": "stream",
     "text": [
      "['T-shirt/top', 'Trouser', 'Pullover', 'Dress', 'Coat', 'Sandal', 'Shirt', 'Sneaker', 'Bag', 'Ankle boot']\n"
     ]
    },
    {
     "data": {
      "image/png": "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\n",
      "text/plain": [
       "<Figure size 432x288 with 2 Axes>"
      ]
     },
     "metadata": {
      "needs_background": "light"
     },
     "output_type": "display_data"
    }
   ],
   "source": [
    "print(class_names)\n",
    "plt.figure()\n",
    "plt.imshow(test_images[0]) # predictions[0] corresponds to test_images[0]\n",
    "plt.colorbar()\n",
    "plt.show()"
   ]
  },
  {
   "cell_type": "code",
   "execution_count": null,
   "metadata": {},
   "outputs": [],
   "source": [
    "COLOR = 'white'\n",
    "plt.rcParams['text.color'] = COLOR\n",
    "plt.rcParams['axes.labelcolor'] = COLOR\n",
    "\n",
    "def predict(model, image, correct_label):\n",
    "    class_names = ['T-shirt/top', 'Trouser', 'Pullover', 'Dress', 'Coat',\n",
    "               'Sandal', 'Shirt', 'Sneaker', 'Bag', 'Ankle boot']\n",
    "    prediction = model.predict(np.array([image]))\n",
    "    predicted_class = class_names[np.argmax(prediction)]\n",
    "    show_image(image, class_names[correct_label], predicted_class)\n",
    "\n",
    "\n",
    "def show_image(img, label, guess):\n",
    "    plt.figure()\n",
    "    plt.imshow(img, cmap=plt.cm.binary)\n",
    "    plt.colorbar()\n",
    "    plt.grid(False)\n",
    "    plt.show()\n",
    "    print(\"Expected: \" + label)\n",
    "    print(\"Guess: \" + guess)\n",
    "\n",
    "\n",
    "def get_number():\n",
    "    while True:\n",
    "        num = input(\"Pick a number: \")\n",
    "        if num.isdigit():\n",
    "            num = int(num)\n",
    "            if 0 <= num <= 1000:\n",
    "                return int(num)\n",
    "            else:\n",
    "                print(\"Try again... out of range\")\n",
    "        else:\n",
    "            print(\"Try again...\")\n",
    "\n",
    "num = get_number()\n",
    "image = test_images[num]\n",
    "label = test_labels[num]\n",
    "predict(model, image, label)"
   ]
  },
  {
   "cell_type": "code",
   "execution_count": null,
   "metadata": {},
   "outputs": [],
   "source": []
  },
  {
   "cell_type": "code",
   "execution_count": null,
   "metadata": {},
   "outputs": [],
   "source": []
  }
 ],
 "metadata": {
  "kernelspec": {
   "display_name": "Python 3",
   "language": "python",
   "name": "python3"
  },
  "language_info": {
   "codemirror_mode": {
    "name": "ipython",
    "version": 3
   },
   "file_extension": ".py",
   "mimetype": "text/x-python",
   "name": "python",
   "nbconvert_exporter": "python",
   "pygments_lexer": "ipython3",
   "version": "3.7.6"
  }
 },
 "nbformat": 4,
 "nbformat_minor": 4
}
